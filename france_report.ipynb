{
 "cells": [
  {
   "cell_type": "markdown",
   "metadata": {},
   "source": [
    "# Auto generated report for France\n",
    "\n",
    "This notebook generates for each available geographic zone a summary of the most recent simulation.\n"
   ]
  },
  {
   "cell_type": "markdown",
   "metadata": {},
   "source": [
    "## Preparation"
   ]
  },
  {
   "cell_type": "markdown",
   "metadata": {},
   "source": [
    "### Loading libraries"
   ]
  },
  {
   "cell_type": "code",
   "execution_count": 1,
   "metadata": {},
   "outputs": [],
   "source": [
    "%load_ext autoreload\n",
    "%autoreload 2"
   ]
  },
  {
   "cell_type": "code",
   "execution_count": 2,
   "metadata": {},
   "outputs": [],
   "source": [
    "from IPython.display import display, Markdown, Latex"
   ]
  },
  {
   "cell_type": "code",
   "execution_count": 3,
   "metadata": {},
   "outputs": [],
   "source": [
    "import os\n",
    "from functools import partial"
   ]
  },
  {
   "cell_type": "code",
   "execution_count": 4,
   "metadata": {},
   "outputs": [],
   "source": [
    "from matplotlib import pyplot as plt\n",
    "import matplotlib\n",
    "import pandas as pd\n",
    "from numpy import unique"
   ]
  },
  {
   "cell_type": "code",
   "execution_count": 5,
   "metadata": {},
   "outputs": [],
   "source": [
    "from model_analysis import * "
   ]
  },
  {
   "cell_type": "markdown",
   "metadata": {},
   "source": [
    "### Loading data"
   ]
  },
  {
   "cell_type": "code",
   "execution_count": 6,
   "metadata": {},
   "outputs": [],
   "source": [
    "run_manifest = read_manifest('run-manifest.csv')\n",
    "analysis_set = get_analysis_set(run_manifest)"
   ]
  },
  {
   "cell_type": "code",
   "execution_count": 7,
   "metadata": {},
   "outputs": [],
   "source": [
    "def add_to_zone_dict(zone_dict, row, i, zone):\n",
    "    zone_dict[zone] = {\n",
    "        \"index\": i,\n",
    "        \"date\": row[\"last available data\"],\n",
    "        \"version\": row[\"version\"],\n",
    "    }\n",
    "\n",
    "zone_dict = {}\n",
    "for i, row in analysis_set.iterrows():\n",
    "    for zone in row[\"modelling zones\"]:\n",
    "        if zone not in zone_dict:\n",
    "            add_to_zone_dict(zone_dict, row, i, zone)\n",
    "        elif (zone_dict[zone][\"date\"] < row[\"last available data\"])\\\n",
    "            or (zone_dict[zone][\"date\"] == row[\"last available data\"]\n",
    "                and zone_dict[zone][\"version\"] < row[\"version\"]):\n",
    "            add_to_zone_dict(zone_dict, row, i, zone)\n",
    "        "
   ]
  },
  {
   "cell_type": "code",
   "execution_count": 8,
   "metadata": {},
   "outputs": [],
   "source": [
    "indices = unique([zone_dict[d]['index'] for d in zone_dict])\n",
    "country_2_region = {}\n",
    "for idx in indices:\n",
    "    for country in analysis_set.loc[idx,].model.data['ifr']['country'].unique():\n",
    "        country_2_region[country] = {}\n",
    "\n",
    "    for _, row in analysis_set.loc[idx,].model.data['ifr'].iterrows():\n",
    "        country_2_region[row['country']][row['region']] = zone_dict[row['region']]['index']\n"
   ]
  },
  {
   "cell_type": "markdown",
   "metadata": {},
   "source": [
    "## Plotting functions"
   ]
  },
  {
   "cell_type": "markdown",
   "metadata": {},
   "source": [
    "First we define a custom process that will print for each zone."
   ]
  },
  {
   "cell_type": "code",
   "execution_count": 9,
   "metadata": {},
   "outputs": [],
   "source": [
    "def process_zone(zone, zone_dict, model_data, title_ext=\"\"):\n",
    "    display(Markdown(\n",
    "        f\"### {zone}{title_ext} \\n\\n Simulation sur la base de donnees du {zone_dict['date']}\"\n",
    "        + f\" avec la version {zone_dict['version']} du code d'Imperial College a Londres\"\n",
    "    ))\n",
    "    axs = plot_zones_summary(zone, model_data)\n",
    "    axis_date_limits(axs, max_date='2020-05-20')\n",
    "    translate_axes_to_french(axs)\n",
    "    plt.show()\n",
    "    plt.close()"
   ]
  },
  {
   "cell_type": "code",
   "execution_count": 14,
   "metadata": {},
   "outputs": [],
   "source": [
    "def print_zone(file_in, img_dir, file_dir, zone, zone_dict, model_data, title_ext=\"\", img_ext=\".png\"):\n",
    "    img_file = os.path.join(img_dir, (zone + '_' + zone_dict['date'].strip() + img_ext).replace(\" \", \"_\"))\n",
    "    \n",
    "    unix_rel_img_path = os.path.relpath(img_file, file_dir).replace('\\\\','/')\n",
    "    file_in.write(\n",
    "        f\"### {zone}{title_ext} \\n\\n Simulation sur la base de données du {zone_dict['date']}\"\n",
    "        + f\" avec la version {zone_dict['version']} du code d'Imperial College à Londres\"\n",
    "        +  f\" \\n\\n ![img_file]({unix_rel_img_path})\\n\\n\"\n",
    "    )\n",
    "    axs = plot_zones_summary(zone, model_data)\n",
    "    axis_date_limits(axs, max_date='2020-05-20')\n",
    "    translate_axes_to_french(axs)\n",
    "    axs[0].figure.savefig(img_file, bbox_inches='tight')\n",
    "    plt.close(axs[0].figure)"
   ]
  },
  {
   "cell_type": "markdown",
   "metadata": {},
   "source": [
    "And then we apply this function to every zone that has been identified."
   ]
  },
  {
   "cell_type": "code",
   "execution_count": 18,
   "metadata": {},
   "outputs": [],
   "source": [
    "def apply_process_to_France(\n",
    "    process_func, country_2_region, analysis_set, zone_dict,\n",
    "    display_func=lambda x:display(Markdown(x))):\n",
    "    country = \"France\"\n",
    "    display_func(f\"# Rapport de simulation sur la progression et l'impact du COViD19 en {country}\\n\\n\")\n",
    "\n",
    "    display_func(\n",
    "        \"Ce rapport présente les resultats du travail de réplication d'Imperial College sur la progression de l'épidémie COVID-19 en Europe. Ce travail, reprend les mêmes méthodes et les appliquent à la France et ses régions.\\n\\n\" +\n",
    "        \"Toutes les régions françaises sont passées au crible. À chaque fois trois graphiques illustrent la progression du nombre de décès, un quatrième montre l'effondrement du taux de reproduction initial et le dernier extrapole la progression du nombre de cas confirmés, à partir d'un taux de mortalité estimé à 1,12% (scénario plutôt pessimiste).\\n\\n\" +\n",
    "        \"D'une manière générale le projet vise à estimer au plus près l'impact de cinq interventions politiques (distanciation physique, confinement, annulation des grands événements, fermeture des écoles et université, mise en quarantaine des personnes infectée) sur la courbe des décès liés à la pandémie. En ce sens, les données de 'Google Community Reports' sont en cours d'intégration afin d'améliorer la capacité prédictive du modèle.\\n\\n\" +\n",
    "        \"Les prédictions presentées dans les graphes ci-dessous (lignes pointillées) ne prennent pas en compte le déconfinement. Elles ne sont présentées ici que pour accentuer les tendances observées durant le confinement.\\n\\n\"\n",
    "    )\n",
    "\n",
    "    \n",
    "    display_func(f\"## Résultats au niveau du Pays\\n\\n\")\n",
    "    display_func(\n",
    "        \"Dans cette section vous retrouverez des délimitations non géographiques\"\n",
    "        + \"de la population, nottament une modelisation sur la base des données:\\n\\n\"\n",
    "        + \"- Santé publique France (SPF) via le ECDC sous la dénomination 'France'\\n\"\n",
    "        + \"- SPF via la collecte de opencovid19-fr sous la dénomination 'France-OC19'\\n\"\n",
    "        + \"- Des décès en EHPAD sous la dénomination 'France-EHPAD'\\n\"\n",
    "        + \"- Des décès en hopitaux sous la dénomination 'France-hopitaux'\\n\\n\"\n",
    "    )\n",
    "    country_level_list = []\n",
    "    region_level_list = []\n",
    "    for region in country_2_region[country]:\n",
    "        if region[:len(country)] == country:\n",
    "            country_level_list.append(region)\n",
    "        else:\n",
    "            region_level_list.append(region)\n",
    "\n",
    "    for zone in sorted(country_level_list):\n",
    "        idx = zone_dict[zone]['index']\n",
    "        process_func(\n",
    "            zone, zone_dict[zone], \n",
    "            analysis_set.loc[idx, 'model'].data)\n",
    "\n",
    "    display_func(f\"## Résultats régionaux \\n\")\n",
    "    for zone in sorted(region_level_list):\n",
    "        idx = zone_dict[zone]['index']\n",
    "        process_func(\n",
    "            zone, zone_dict[zone], \n",
    "            analysis_set.loc[idx, 'model'].data)\n"
   ]
  },
  {
   "cell_type": "code",
   "execution_count": 12,
   "metadata": {},
   "outputs": [],
   "source": [
    "#apply_process_to_France(process_zone, country_2_region, analysis_set, zone_dict)"
   ]
  },
  {
   "cell_type": "code",
   "execution_count": 19,
   "metadata": {},
   "outputs": [],
   "source": [
    "\n",
    "report_dir = os.path.join('public_reports', 'france_report')\n",
    "img_dir = os.path.join(report_dir, 'img')\n",
    "os.makedirs(report_dir, exist_ok=True)\n",
    "os.makedirs(img_dir, exist_ok=True)\n",
    "report_file = os.path.join(report_dir, \"france_report.md\")\n",
    "with open(report_file, \"w\", encoding=\"utf-8\") as file_in:\n",
    "    print_partial = partial(print_zone, file_in, img_dir, report_dir)\n",
    "    apply_process_to_France(\n",
    "        print_partial, country_2_region, analysis_set, zone_dict,\n",
    "        file_in.write)"
   ]
  }
 ],
 "metadata": {
  "kernelspec": {
   "display_name": "Python 3",
   "language": "python",
   "name": "python3"
  },
  "language_info": {
   "codemirror_mode": {
    "name": "ipython",
    "version": 3
   },
   "file_extension": ".py",
   "mimetype": "text/x-python",
   "name": "python",
   "nbconvert_exporter": "python",
   "pygments_lexer": "ipython3",
   "version": "3.7.4"
  }
 },
 "nbformat": 4,
 "nbformat_minor": 2
}
