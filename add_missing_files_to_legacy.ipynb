{
 "cells": [
  {
   "cell_type": "code",
   "execution_count": 1,
   "metadata": {},
   "outputs": [],
   "source": [
    "import os\n",
    "from pathlib import Path\n",
    "from matplotlib import pyplot as plt\n"
   ]
  },
  {
   "cell_type": "code",
   "execution_count": 2,
   "metadata": {},
   "outputs": [],
   "source": [
    "from model_analysis import * "
   ]
  },
  {
   "cell_type": "markdown",
   "metadata": {},
   "source": [
    "# Complete legacy runs with latest files\n",
    "\n",
    "To ensure consistency of processing legacy runs which may not have all the files for later processing,\n",
    "are enhanced with those files filled in to the best of our abilities. \n",
    "This notebook defines those defaults."
   ]
  },
  {
   "cell_type": "code",
   "execution_count": 3,
   "metadata": {},
   "outputs": [
    {
     "data": {
      "text/html": [
       "<div>\n",
       "<style scoped>\n",
       "    .dataframe tbody tr th:only-of-type {\n",
       "        vertical-align: middle;\n",
       "    }\n",
       "\n",
       "    .dataframe tbody tr th {\n",
       "        vertical-align: top;\n",
       "    }\n",
       "\n",
       "    .dataframe thead th {\n",
       "        text-align: right;\n",
       "    }\n",
       "</style>\n",
       "<table border=\"1\" class=\"dataframe\">\n",
       "  <thead>\n",
       "    <tr style=\"text-align: right;\">\n",
       "      <th></th>\n",
       "      <th>folder</th>\n",
       "      <th>version</th>\n",
       "      <th>last available data</th>\n",
       "      <th>number of countries</th>\n",
       "      <th>number of zones</th>\n",
       "      <th>countries</th>\n",
       "      <th>modelling zones</th>\n",
       "      <th></th>\n",
       "    </tr>\n",
       "  </thead>\n",
       "  <tbody>\n",
       "    <tr>\n",
       "      <td>108</td>\n",
       "      <td>./runs/base-mobility-fullrun-20200527T230910-3...</td>\n",
       "      <td>v5</td>\n",
       "      <td>2020-05-27</td>\n",
       "      <td>14</td>\n",
       "      <td>14</td>\n",
       "      <td>{'Austria': True, 'Belgium': True, 'Denmark': ...</td>\n",
       "      <td>{'Austria': True, 'Belgium': True, 'Denmark': ...</td>\n",
       "      <td></td>\n",
       "    </tr>\n",
       "    <tr>\n",
       "      <td>109</td>\n",
       "      <td>./runs/base-mobility-fullrun-20200527T230906-3...</td>\n",
       "      <td>v5</td>\n",
       "      <td>2020-05-27</td>\n",
       "      <td>14</td>\n",
       "      <td>30</td>\n",
       "      <td>{'Austria': True, 'Belgium': True, 'Denmark': ...</td>\n",
       "      <td>{'Austria': True, 'Auvergne-Rhône-Alpes': True...</td>\n",
       "      <td></td>\n",
       "    </tr>\n",
       "    <tr>\n",
       "      <td>110</td>\n",
       "      <td>./runs/base-mobility-fullrun-20200528T223256-3...</td>\n",
       "      <td>v5</td>\n",
       "      <td>2020-05-28</td>\n",
       "      <td>1</td>\n",
       "      <td>16</td>\n",
       "      <td>{'France': True}</td>\n",
       "      <td>{'Auvergne-Rhône-Alpes': True, 'Bourgogne-Fran...</td>\n",
       "      <td></td>\n",
       "    </tr>\n",
       "    <tr>\n",
       "      <td>111</td>\n",
       "      <td>./runs/base-mobility-fullrun-20200528T222424-3...</td>\n",
       "      <td>v5</td>\n",
       "      <td>2020-05-28</td>\n",
       "      <td>14</td>\n",
       "      <td>14</td>\n",
       "      <td>{'Austria': True, 'Belgium': True, 'Denmark': ...</td>\n",
       "      <td>{'Austria': True, 'Belgium': True, 'Denmark': ...</td>\n",
       "      <td></td>\n",
       "    </tr>\n",
       "    <tr>\n",
       "      <td>112</td>\n",
       "      <td>./runs/base-mobility-fullrun-20200528T222425-3...</td>\n",
       "      <td>v5</td>\n",
       "      <td>2020-05-28</td>\n",
       "      <td>14</td>\n",
       "      <td>30</td>\n",
       "      <td>{'Austria': True, 'Belgium': True, 'Denmark': ...</td>\n",
       "      <td>{'Austria': True, 'Auvergne-Rhône-Alpes': True...</td>\n",
       "      <td></td>\n",
       "    </tr>\n",
       "  </tbody>\n",
       "</table>\n",
       "</div>"
      ],
      "text/plain": [
       "                                                folder version  \\\n",
       "108  ./runs/base-mobility-fullrun-20200527T230910-3...      v5   \n",
       "109  ./runs/base-mobility-fullrun-20200527T230906-3...      v5   \n",
       "110  ./runs/base-mobility-fullrun-20200528T223256-3...      v5   \n",
       "111  ./runs/base-mobility-fullrun-20200528T222424-3...      v5   \n",
       "112  ./runs/base-mobility-fullrun-20200528T222425-3...      v5   \n",
       "\n",
       "    last available data  number of countries  number of zones  \\\n",
       "108         2020-05-27                    14               14   \n",
       "109         2020-05-27                    14               30   \n",
       "110         2020-05-28                     1               16   \n",
       "111         2020-05-28                    14               14   \n",
       "112         2020-05-28                    14               30   \n",
       "\n",
       "                                             countries  \\\n",
       "108  {'Austria': True, 'Belgium': True, 'Denmark': ...   \n",
       "109  {'Austria': True, 'Belgium': True, 'Denmark': ...   \n",
       "110                                   {'France': True}   \n",
       "111  {'Austria': True, 'Belgium': True, 'Denmark': ...   \n",
       "112  {'Austria': True, 'Belgium': True, 'Denmark': ...   \n",
       "\n",
       "                                       modelling zones     \n",
       "108  {'Austria': True, 'Belgium': True, 'Denmark': ...     \n",
       "109  {'Austria': True, 'Auvergne-Rhône-Alpes': True...     \n",
       "110  {'Auvergne-Rhône-Alpes': True, 'Bourgogne-Fran...     \n",
       "111  {'Austria': True, 'Belgium': True, 'Denmark': ...     \n",
       "112  {'Austria': True, 'Auvergne-Rhône-Alpes': True...     "
      ]
     },
     "execution_count": 3,
     "metadata": {},
     "output_type": "execute_result"
    }
   ],
   "source": [
    "run_manifest = read_manifest('run-manifest.csv')\n",
    "run_manifest.tail()"
   ]
  },
  {
   "cell_type": "markdown",
   "metadata": {},
   "source": [
    "## Processing functions\n",
    "\n",
    "All of them include an overwrite guard in the form of function `safe_write`\n",
    "\n",
    "```python\n",
    "    safe_write(file_name, text)\n",
    "```\n",
    "to avoid destroying previously written data.\n"
   ]
  },
  {
   "cell_type": "code",
   "execution_count": 40,
   "metadata": {},
   "outputs": [],
   "source": [
    "def safe_write(file_name, text):\n",
    "    if not os.path.exists(file_name):\n",
    "        with open(file_name, \"w\", encoding=\"utf-8\") as f:\n",
    "            print(\"Writing: \" + file_name)\n",
    "            f.write(text)"
   ]
  },
  {
   "cell_type": "markdown",
   "metadata": {},
   "source": [
    "### Missing argument list\n",
    "\n",
    "Copies standard arguments and sets `\"max_date\"` and `\"StanModel\"` correctly (for runs <`v5`)."
   ]
  },
  {
   "cell_type": "code",
   "execution_count": 39,
   "metadata": {},
   "outputs": [],
   "source": [
    "def print_missing_cmd_args(row):\n",
    "    folder_name = row[\"folder\"].strip()\n",
    "    file_name = os.path.join(folder_name, os.path.basename(folder_name) + '-inputs-parsed-cmd-arguments.csv')\n",
    "    \n",
    "    last_dat = row[\"last available data\"].strip()\n",
    "    text = f'\"\",\"x\"\\n\"DEBUG\",\"FALSE\"\\n\"FULL\",\"TRUE\"\\n\"new_sub_folder\",\"TRUE\"\\n\"max_date\",\"{last_dat}\"\\n'\n",
    "    text += '\"StanModel\",\"base\"\\n'\n",
    "    safe_write(file_name, text)\n",
    "    "
   ]
  },
  {
   "cell_type": "markdown",
   "metadata": {},
   "source": [
    "### Missing mobility\n",
    "\n",
    "Makes an epty csv with mobility columns."
   ]
  },
  {
   "cell_type": "code",
   "execution_count": 41,
   "metadata": {},
   "outputs": [],
   "source": [
    "def print_missing_mobility(row):\n",
    "    folder_name = row[\"folder\"].strip()\n",
    "    file_name = os.path.join(folder_name, os.path.basename(folder_name) + '-inputs-processed-mobility.csv')\n",
    "    \n",
    "    last_dat = row[\"last available data\"].strip()\n",
    "    text = f'\"\",\"date\",\"country\",\"grocery.pharmacy\",\"parks\",\"residential\",\"retail.recreation\",\"transitstations\",\"workplace\",\"schools_universities\",\"self_isolating_if_ill\",\"public_events\",\"lockdown\",\"social_distancing_encouraged\"\\n'\n",
    "    text += '\"StanModel\",\"base\"\\n'\n",
    "    \n",
    "    safe_write(file_name, text)"
   ]
  },
  {
   "cell_type": "markdown",
   "metadata": {},
   "source": [
    "## Process all rows\n",
    "\n",
    "Thanks to the `safe_write` function the following lines have an effect only on first run."
   ]
  },
  {
   "cell_type": "code",
   "execution_count": 43,
   "metadata": {},
   "outputs": [],
   "source": [
    "for i, row in run_manifest.iterrows():\n",
    "    print_missing_cmd_args(row)\n",
    "    print_missing_mobility(row)"
   ]
  }
 ],
 "metadata": {
  "kernelspec": {
   "display_name": "Python 3",
   "language": "python",
   "name": "python3"
  },
  "language_info": {
   "codemirror_mode": {
    "name": "ipython",
    "version": 3
   },
   "file_extension": ".py",
   "mimetype": "text/x-python",
   "name": "python",
   "nbconvert_exporter": "python",
   "pygments_lexer": "ipython3",
   "version": "3.7.4"
  }
 },
 "nbformat": 4,
 "nbformat_minor": 2
}
