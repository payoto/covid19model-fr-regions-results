{
 "cells": [
  {
   "cell_type": "markdown",
   "metadata": {},
   "source": [
    "# Generate maps of metrics\n",
    "\n",
    "This notebook shows how to generate maps of various metrics\n",
    "\n"
   ]
  },
  {
   "cell_type": "code",
   "execution_count": 1,
   "metadata": {},
   "outputs": [],
   "source": [
    "%load_ext autoreload\n",
    "%autoreload 2"
   ]
  },
  {
   "cell_type": "code",
   "execution_count": 2,
   "metadata": {},
   "outputs": [],
   "source": [
    "import os\n",
    "import geopandas as gpd\n",
    "import pandas as pd\n",
    "import numpy as np"
   ]
  },
  {
   "cell_type": "code",
   "execution_count": 3,
   "metadata": {},
   "outputs": [],
   "source": [
    "from os import chdir\n",
    "if \"_changed_dir\" not in locals():\n",
    "    chdir(\"..\")\n",
    "    _changed_dir = True"
   ]
  },
  {
   "cell_type": "code",
   "execution_count": 4,
   "metadata": {},
   "outputs": [],
   "source": [
    "from model_analysis import *"
   ]
  },
  {
   "cell_type": "markdown",
   "metadata": {},
   "source": [
    "## Load base data"
   ]
  },
  {
   "cell_type": "markdown",
   "metadata": {},
   "source": [
    "### Load geographic data\n"
   ]
  },
  {
   "cell_type": "code",
   "execution_count": 5,
   "metadata": {},
   "outputs": [],
   "source": [
    "geo = gpd.read_file('./data/processed/geo/covid19model_zones.shp')  "
   ]
  },
  {
   "cell_type": "markdown",
   "metadata": {},
   "source": [
    "### Load run manifests"
   ]
  },
  {
   "cell_type": "code",
   "execution_count": 6,
   "metadata": {},
   "outputs": [],
   "source": [
    "run_manifest = read_manifest('run-manifest.csv')\n",
    "analysis_set = get_analysis_set(run_manifest)"
   ]
  },
  {
   "cell_type": "markdown",
   "metadata": {},
   "source": [
    "### select a run"
   ]
  },
  {
   "cell_type": "code",
   "execution_count": 7,
   "metadata": {},
   "outputs": [],
   "source": [
    "run_data = analysis_set.iloc[-1,]"
   ]
  },
  {
   "cell_type": "markdown",
   "metadata": {},
   "source": [
    "### Match country names between geo and model"
   ]
  },
  {
   "cell_type": "code",
   "execution_count": 43,
   "metadata": {},
   "outputs": [
    {
     "output_type": "stream",
     "name": "stdout",
     "text": "Match 1 of 1 : 'AUVERGNE-RHONE-ALPES' == 'Auvergne-Rhône-Alpes'  with a match score of 35/80.\n\tMatch 1 of 1 : 'BOURGOGNE-FRANCHE-COMTE' == 'Bourgogne-Franche-Comté'  with a match score of 49/92.\n\tMatch 1 of 1 : 'BRETAGNE' == 'Bretagne'  with a match score of 18/32.\n\tMatch 1 of 1 : 'CENTRE-VAL DE LOIRE' == 'Centre-Val de Loire'  with a match score of 46/76.\n\tMatch 1 of 1 : 'CORSE' == 'Corse'  with a match score of 12/20.\n\tMatch 1 of 1 : 'France' == 'Grand Est'  with a match score of 9/36.\n\tMatch 1 of 1 : 'France' == 'Hauts-de-France'  with a match score of 24/60.\n\tMatch 1 of 1 : 'NORMANDIE' == 'Normandie'  with a match score of 20/36.\n\tMatch 1 of 1 : 'GUYANE' == 'Nouvelle-Aquitaine'  with a match score of 4/72.\n\tMatch 1 of 1 : 'France' == 'Occitanie'  with a match score of 4/36.\n\tMatch 1 of 1 : 'PAYS DE LA LOIRE' == 'Pays de la Loire'  with a match score of 39/64.\n\tMatch 1 of 1 : 'PROVENCE-ALPES-COTE D'AZUR' == 'Provence-Alpes-Côte d'Azur'  with a match score of 49/104.\n\tMatch 1 of 1 : 'ILE-DE-FRANCE' == 'Île-de-France'  with a match score of 27/52.\n\tMatch 1 of 1 : 'France' == 'France-hopitaux'  with a match score of 24/60.\n\tMatch 1 of 1 : 'France' == 'France-OC19'  with a match score of 24/44.\n\tMatch 1 of 1 : 'France' == 'France-EHPAD'  with a match score of 24/48.\n['France', 'GUADELOUPE', 'MARTINIQUE', 'GUYANE', 'REUNION', 'MAYOTTE', 'ILE-DE-FRANCE', 'CENTRE-VAL DE LOIRE', 'BOURGOGNE-FRANCHE-COMTE', 'NORMANDIE', 'NORD-PAS-DE-CALAIS-PICARDIE', 'ALSACE-CHAMPAGNE-ARDENNE-LORRAINE', 'PAYS DE LA LOIRE', 'BRETAGNE', 'AQUITAINE-LIMOUSIN-POITOU-CHARENTES', 'LANGUEDOC-ROUSSILLON-MIDI-PYRENEES', 'AUVERGNE-RHONE-ALPES', \"PROVENCE-ALPES-COTE D'AZUR\", 'CORSE']\n"
    }
   ],
   "source": [
    "geo_fra_regions = [\"France\", *[i for i in geo.name[geo.geo_level == \"REG\"].unique()]]\n",
    "model_regions = run_data.model.data[\"ifr\"].region\n",
    "model_countries = run_data.model.data[\"ifr\"].country\n",
    "\n",
    "prob_match = {}\n",
    "for zone in model_regions[model_regions != model_countries].unique():\n",
    "    prob_match[zone] = icl_translate.most_probable_match(zone, geo_fra_regions)\n",
    "\n",
    "# Print French \n",
    "print(geo_fra_regions)\n",
    "\n",
    "# Hard code failures (due to complete name mismatch)\n",
    "prob_match['Grand Est'] = 'ALSACE-CHAMPAGNE-ARDENNE-LORRAINE'\n",
    "prob_match['Hauts-de-France'] = 'NORD-PAS-DE-CALAIS-PICARDIE'\n",
    "prob_match['Nouvelle-Aquitaine'] = 'AQUITAINE-LIMOUSIN-POITOU-CHARENTES'\n",
    "prob_match['Occitanie'] = 'LANGUEDOC-ROUSSILLON-MIDI-PYRENEES'"
   ]
  },
  {
   "cell_type": "code",
   "execution_count": 44,
   "metadata": {},
   "outputs": [
    {
     "output_type": "stream",
     "name": "stdout",
     "text": "Match 1 of 1 : 'France' == 'France'  with a match score of 24/24.\n\tMatch 1 of 1 : 'Denmark' == 'Denmark'  with a match score of 28/28.\n\tMatch 1 of 1 : 'Italy' == 'Italy'  with a match score of 20/20.\n\tMatch 1 of 1 : 'Germany' == 'Germany'  with a match score of 28/28.\n\tMatch 1 of 1 : 'Spain' == 'Spain'  with a match score of 20/20.\n\tMatch 1 of 1 : 'United Kingdom' == 'United_Kingdom'  with a match score of 38/56.\n\tMatch 1 of 1 : 'Norway' == 'Norway'  with a match score of 24/24.\n\tMatch 1 of 1 : 'Belgium' == 'Belgium'  with a match score of 28/28.\n\tMatch 1 of 1 : 'Austria' == 'Austria'  with a match score of 28/28.\n\tMatch 1 of 1 : 'Sweden' == 'Sweden'  with a match score of 24/24.\n\tMatch 1 of 1 : 'Switzerland' == 'Switzerland'  with a match score of 44/44.\n\tMatch 1 of 1 : 'Greece' == 'Greece'  with a match score of 24/24.\n\tMatch 1 of 1 : 'Portugal' == 'Portugal'  with a match score of 32/32.\n\tMatch 1 of 1 : 'Netherlands' == 'Netherlands'  with a match score of 44/44.\n"
    }
   ],
   "source": [
    "geo_countries = geo.name[geo.geo_level == \"CNTRY\"].unique()\n",
    "for zone in model_countries.unique():\n",
    "    prob_match[zone] = icl_translate.most_probable_match(zone, geo_countries)"
   ]
  },
  {
   "cell_type": "code",
   "execution_count": 46,
   "metadata": {},
   "outputs": [
    {
     "output_type": "stream",
     "name": "stdout",
     "text": "Auvergne-Rhône-Alpes: AUVERGNE-RHONE-ALPES\nBourgogne-Franche-Comté: BOURGOGNE-FRANCHE-COMTE\nBretagne: BRETAGNE\nCentre-Val de Loire: CENTRE-VAL DE LOIRE\nCorse: CORSE\nGrand Est: ALSACE-CHAMPAGNE-ARDENNE-LORRAINE\nHauts-de-France: NORD-PAS-DE-CALAIS-PICARDIE\nNormandie: NORMANDIE\nNouvelle-Aquitaine: AQUITAINE-LIMOUSIN-POITOU-CHARENTES\nOccitanie: LANGUEDOC-ROUSSILLON-MIDI-PYRENEES\nPays de la Loire: PAYS DE LA LOIRE\nProvence-Alpes-Côte d'Azur: PROVENCE-ALPES-COTE D'AZUR\nÎle-de-France: ILE-DE-FRANCE\nFrance-hopitaux: France\nFrance-OC19: France\nFrance-EHPAD: France\nFrance: France\nDenmark: Denmark\nItaly: Italy\nGermany: Germany\nSpain: Spain\nUnited_Kingdom: United Kingdom\nNorway: Norway\nBelgium: Belgium\nAustria: Austria\nSweden: Sweden\nSwitzerland: Switzerland\nGreece: Greece\nPortugal: Portugal\nNetherlands: Netherlands\n"
    }
   ],
   "source": [
    "for mode_zone in prob_match: \n",
    "    print(f\"{mode_zone}: {prob_match[mode_zone]}\")"
   ]
  },
  {
   "cell_type": "markdown",
   "metadata": {},
   "source": [
    "## Define processing functions"
   ]
  }
 ],
 "metadata": {
  "kernelspec": {
   "display_name": "Python 3.7.4 64-bit ('base': conda)",
   "language": "python",
   "name": "python37464bitbaseconda1f17ee1a6a57410abd8d3bbfeb22633f"
  },
  "language_info": {
   "codemirror_mode": {
    "name": "ipython",
    "version": 3
   },
   "file_extension": ".py",
   "mimetype": "text/x-python",
   "name": "python",
   "nbconvert_exporter": "python",
   "pygments_lexer": "ipython3",
   "version": "3.7.4-final"
  },
  "toc": {
   "base_numbering": 1,
   "nav_menu": {},
   "number_sections": true,
   "sideBar": true,
   "skip_h1_title": false,
   "title_cell": "Table of Contents",
   "title_sidebar": "Contents",
   "toc_cell": false,
   "toc_position": {},
   "toc_section_display": true,
   "toc_window_display": false
  }
 },
 "nbformat": 4,
 "nbformat_minor": 4
}