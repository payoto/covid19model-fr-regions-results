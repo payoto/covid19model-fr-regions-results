{
 "cells": [
  {
   "cell_type": "markdown",
   "metadata": {},
   "source": [
    "# Analysis of model convergence when using all mobility data\n",
    "\n",
    "The model explored here uses a different formula for mobility which separates all the values even those judged too colinear by the authors of the original study.\n",
    "\n",
    " + Pooling formula: `~ -1 + residential + transit + grocery + parks + retail + workplace`\n",
    " + Partial pooling formula: `~ -1 + residential + transit + grocery + parks + retail + workplace`\n",
    "\n",
    "This criteria is defined in function `is_desired_pooling`"
   ]
  },
  {
   "cell_type": "markdown",
   "metadata": {},
   "source": [
    "All functions are defined in [`mobility_model_analyse.ipynb`](mobility_model_analyse.ipynb) it is ran here\n",
    "using the ipython magic."
   ]
  },
  {
   "cell_type": "code",
   "execution_count": null,
   "metadata": {},
   "outputs": [],
   "source": [
    "%run mobility_model_analyse.ipynb"
   ]
  },
  {
   "cell_type": "markdown",
   "metadata": {},
   "source": [
    "Must change directory as imports and data are from the root of the project"
   ]
  },
  {
   "cell_type": "markdown",
   "metadata": {},
   "source": [
    "## Load Data"
   ]
  },
  {
   "cell_type": "code",
   "execution_count": null,
   "metadata": {
    "scrolled": true
   },
   "outputs": [],
   "source": [
    "run_manifest = read_manifest('run-manifest.csv')\n",
    "analysis_set = get_analysis_set(run_manifest)"
   ]
  },
  {
   "cell_type": "markdown",
   "metadata": {},
   "source": [
    "## Group data in comparable runs\n",
    "\n",
    "To group analysis runs we define `is_desired_pooling` which returns a true or false value"
   ]
  },
  {
   "cell_type": "code",
   "execution_count": null,
   "metadata": {
    "tags": [
     "outputPrepend"
    ]
   },
   "outputs": [],
   "source": [
    "def is_desired_pooling(df, x):\n",
    "    return (\n",
    "        '~ -1 + residential + transit + grocery + parks + retail + workplace'\n",
    "        == df.loc[x, \"model\"].data[\"arguments\"][\"formula_pooling\"].strip()\n",
    "    ) and (\n",
    "        '~ -1 + residential + transit + grocery + parks + retail + workplace'\n",
    "        == df.loc[x, \"model\"].data[\"arguments\"][\"formula_partialpooling\"].strip()\n",
    "    )\n",
    "\n",
    "groups = analysis_set.groupby(lambda x : group_region_fit_and_pooling(analysis_set, x, is_desired_pooling))"
   ]
  },
  {
   "cell_type": "markdown",
   "metadata": {},
   "source": [
    "Check what groups have been created"
   ]
  },
  {
   "cell_type": "code",
   "execution_count": null,
   "metadata": {},
   "outputs": [],
   "source": [
    "for i, group in enumerate(groups):\n",
    "    print(f\"Group {i + 1} of {len(groups)}: {group[0]}\")"
   ]
  },
  {
   "cell_type": "markdown",
   "metadata": {},
   "source": [
    "## Analysis of convergence on France\n",
    "\n",
    "The next few plots display data for France as a whole modelled from a range of different dates.\n"
   ]
  },
  {
   "cell_type": "code",
   "execution_count": null,
   "metadata": {},
   "outputs": [],
   "source": [
    "french_regions = [\"France-hopitaux\", \"France-OC19\"]"
   ]
  },
  {
   "cell_type": "code",
   "execution_count": null,
   "metadata": {},
   "outputs": [],
   "source": [
    "report_on_zones(french_regions, select_with_regions)"
   ]
  },
  {
   "cell_type": "markdown",
   "metadata": {},
   "source": [
    "## Case study of European countries\n",
    "\n"
   ]
  },
  {
   "cell_type": "code",
   "execution_count": null,
   "metadata": {},
   "outputs": [],
   "source": [
    "countries = ['Spain', 'Italy', \"United_Kingdom\", 'Germany', 'Netherlands', 'Portugal', 'Denmark', 'Sweden']"
   ]
  },
  {
   "cell_type": "code",
   "execution_count": null,
   "metadata": {},
   "outputs": [],
   "source": [
    "report_on_zones(countries, select_europe_only)"
   ]
  },
  {
   "cell_type": "markdown",
   "metadata": {},
   "source": [
    "## Conclusions\n",
    "\n"
   ]
  },
  {
   "cell_type": "markdown",
   "metadata": {},
   "source": [
    "### Note on convergence\n",
    "\n"
   ]
  },
  {
   "cell_type": "markdown",
   "metadata": {},
   "source": [
    "### Future works\n",
    "\n"
   ]
  },
  {
   "cell_type": "markdown",
   "metadata": {},
   "source": [
    "## Acknowledgements / Thanks\n",
    "\n",
    "- The MRC at Imperial for open sourcing the model and their support\n",
    "- [Nathan Desdouits](https://github.com/nathan-tc) for his advice on cleaning up the colours of the plots."
   ]
  }
 ],
 "metadata": {
  "kernelspec": {
   "display_name": "Python 3",
   "language": "python",
   "name": "python3"
  },
  "language_info": {
   "codemirror_mode": {
    "name": "ipython",
    "version": 3
   },
   "file_extension": ".py",
   "mimetype": "text/x-python",
   "name": "python",
   "nbconvert_exporter": "python",
   "pygments_lexer": "ipython3",
   "version": "3.7.4"
  }
 },
 "nbformat": 4,
 "nbformat_minor": 2
}
