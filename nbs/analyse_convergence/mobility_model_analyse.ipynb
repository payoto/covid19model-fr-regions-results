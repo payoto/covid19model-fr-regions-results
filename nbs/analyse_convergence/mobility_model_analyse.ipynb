{
 "cells": [
  {
   "cell_type": "markdown",
   "metadata": {},
   "source": [
    "# Core analysis functions for mobility convergence reports"
   ]
  },
  {
   "cell_type": "code",
   "execution_count": 30,
   "metadata": {},
   "outputs": [],
   "source": [
    "import os\n",
    "from pathlib import Path\n",
    "from matplotlib import pyplot as plt\n",
    "import numpy as np\n",
    "from IPython.display import display, Markdown"
   ]
  },
  {
   "cell_type": "markdown",
   "metadata": {},
   "source": [
    "Must change directory as imports and data are from the root of the project"
   ]
  },
  {
   "cell_type": "code",
   "execution_count": 3,
   "metadata": {},
   "outputs": [
    {
     "name": "stdout",
     "output_type": "stream",
     "text": [
      "C:\\Users\\ap1949\\Documents\\PhD\\code\\covid19model-fr-regions-results\n"
     ]
    }
   ],
   "source": [
    "if \"_changed_dir\" not in locals():\n",
    "    os.chdir(\"../..\")\n",
    "    _changed_dir = True"
   ]
  },
  {
   "cell_type": "markdown",
   "metadata": {},
   "source": [
    "## Analysis Method\n",
    "\n",
    "This analysis is done by comparing the reported, modelled and forecasted deaths for 4 countries.\n",
    "\n",
    "Simulations provided with increasing days of reports are plotted on the same graph. \"Convergence\" is assessed visually by finding the point at which modelled and forecasted mean lines stop changing as more data is added.\n",
    "\n",
    "Plotting functions used in this notebook can be found in the [`model_analysis`](../../model_analysis) package.\n",
    "In each plot, data is grouped by code version and the fitting conditions. For France two fitting conditions exist:\n",
    "\n",
    "- Fitting with influence from Europe and French regions;\n",
    "- Fitting with influence from French regions only;\n",
    "\n",
    "The effect of this difference has not been evaluated yet."
   ]
  },
  {
   "cell_type": "code",
   "execution_count": 5,
   "metadata": {},
   "outputs": [],
   "source": [
    "from model_analysis import * "
   ]
  },
  {
   "cell_type": "markdown",
   "metadata": {},
   "source": [
    "## Group data in comparable runs\n",
    "\n",
    "Function `is_desired_pooling` needs to return true or false"
   ]
  },
  {
   "cell_type": "code",
   "execution_count": 21,
   "metadata": {
    "tags": [
     "outputPrepend"
    ]
   },
   "outputs": [],
   "source": [
    "def group_region_fit_and_pooling(df, x, is_desired_pooling):\n",
    "    regions = \"No region\"\n",
    "    if df.loc[x, \"number of zones\"]>14:\n",
    "        regions = \"With regions\"\n",
    "    countries = \"France only\"\n",
    "    if df.loc[x, \"number of countries\"]>1:\n",
    "        countries = \"Europe\"\n",
    "    \n",
    "    try:\n",
    "        desired_pooling = is_desired_pooling(df, x)\n",
    "        pooling_formula = df.loc[x, \"model\"].data[\"arguments\"][\"formula_pooling\"].strip()\n",
    "        partialpooling_formula = df.loc[x, \"model\"].data[\"arguments\"][\"formula_partialpooling\"].strip()\n",
    "    except:\n",
    "        desired_pooling = False\n",
    "        pooling_formula = \"\"\n",
    "        partialpooling_formula = \"\"\n",
    "    return (df.loc[x, \"version\"], countries, regions, desired_pooling, pooling_formula, partialpooling_formula)\n"
   ]
  },
  {
   "cell_type": "code",
   "execution_count": 9,
   "metadata": {},
   "outputs": [],
   "source": [
    "prop_cycle = icl_plot_core.cycler(\n",
    "    linestyle=[ '-', '--'],\n",
    "    marker=[' ', 'v'],\n",
    "    markevery=[ 1, 4]\n",
    ")\n",
    "icl_plot_core.default_color_map = plt.get_cmap(\"viridis\")"
   ]
  },
  {
   "cell_type": "code",
   "execution_count": 32,
   "metadata": {},
   "outputs": [],
   "source": [
    "def report_on_zones(zones, selector_function):\n",
    "    for zone in zones:\n",
    "        display(Markdown(\n",
    "            f\"### {zone}\"\n",
    "        ))\n",
    "        icl_plot.plot_groups(\n",
    "            groups, zone, prop_cycle, \n",
    "            cond_group=selector_function, \n",
    "            min_date='2020-02-10', max_date='2020-07-01',\n",
    "            verbose=True\n",
    "        )\n",
    "        plt.show()\n",
    "        plt.close()"
   ]
  },
  {
   "cell_type": "markdown",
   "metadata": {},
   "source": [
    "## Analysis of convergence on France\n",
    "\n",
    "The next few plots display data for France as a whole modelled from a range of different dates.\n"
   ]
  },
  {
   "cell_type": "code",
   "execution_count": 36,
   "metadata": {},
   "outputs": [],
   "source": [
    "def select_with_regions(group_info):\n",
    "    return (\n",
    "        group_info[0].strip()==\"v5\" and\n",
    "        group_info[2]==\"With regions\" and\n",
    "        group_info[3]  # desired pooling config\n",
    "    )\n",
    "\n",
    "french_regions = [\"France-hopitaux\", \"France-OC19\"]"
   ]
  },
  {
   "cell_type": "markdown",
   "metadata": {},
   "source": [
    "## Case study of European countries\n",
    "\n"
   ]
  },
  {
   "cell_type": "code",
   "execution_count": 35,
   "metadata": {},
   "outputs": [],
   "source": [
    "def select_europe_only(group_info):\n",
    "    return (\n",
    "        group_info[0].strip()==\"v5\" and\n",
    "        group_info[1]==\"Europe\" and\n",
    "        group_info[2]!=\"With regions\" and\n",
    "        group_info[3]  # desired pooling config\n",
    "    )\n",
    "\n",
    "countries = ['Spain', 'Italy', \"United_Kingdom\", 'Germany', 'Netherlands', 'Portugal', 'Denmark', 'Sweden']"
   ]
  }
 ],
 "metadata": {
  "kernelspec": {
   "display_name": "Python 3",
   "language": "python",
   "name": "python3"
  },
  "language_info": {
   "codemirror_mode": {
    "name": "ipython",
    "version": 3
   },
   "file_extension": ".py",
   "mimetype": "text/x-python",
   "name": "python",
   "nbconvert_exporter": "python",
   "pygments_lexer": "ipython3",
   "version": "3.7.4"
  }
 },
 "nbformat": 4,
 "nbformat_minor": 2
}
